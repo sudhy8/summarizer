{
  "nbformat": 4,
  "nbformat_minor": 0,
  "metadata": {
    "colab": {
      "provenance": []
    },
    "kernelspec": {
      "name": "python3",
      "display_name": "Python 3"
    },
    "language_info": {
      "name": "python"
    }
  },
  "cells": [
    {
      "cell_type": "markdown",
      "source": [
        "Preprocessing steps involved:\n",
        "\n",
        "1. Noise Reduction\n",
        "2. Video Compression\n",
        "3. Transcoding"
      ],
      "metadata": {
        "id": "ikQs0_sIkHm2"
      }
    },
    {
      "cell_type": "markdown",
      "source": [
        "## Installing necessary libraries"
      ],
      "metadata": {
        "id": "7L1lk2-QkjXk"
      }
    },
    {
      "cell_type": "code",
      "source": [
        "# Install OpenCV\n",
        "!pip install opencv-python-headless\n",
        "\n",
        "# Install FFmpeg\n",
        "!apt-get install ffmpeg\n"
      ],
      "metadata": {
        "id": "4w0tXzPvkUyX"
      },
      "execution_count": null,
      "outputs": []
    },
    {
      "cell_type": "markdown",
      "source": [
        "## Importing the video file"
      ],
      "metadata": {
        "id": "-T6tSVI4kr2B"
      }
    },
    {
      "cell_type": "code",
      "source": [
        "import cv2\n",
        "\n",
        "# Importing video\n",
        "cap = cv2.VideoCapture(video_filename)\n",
        "\n",
        "\n",
        "fourcc = cv2.VideoWriter_fourcc(*'mp4v')\n",
        "out = cv2.VideoWriter('denoised_video.mp4', fourcc, 20.0, (int(cap.get(3)), int(cap.get(4))))\n",
        "\n",
        "while cap.isOpened():\n",
        "    ret, frame = cap.read()\n",
        "    if ret:\n",
        "        # Gaussian Function\n",
        "        blurred_frame = cv2.GaussianBlur(frame, (5, 5), 0)\n",
        "        out.write(blurred_frame)\n",
        "    else:\n",
        "        break\n",
        "\n",
        "cap.release()\n",
        "out.release()\n",
        "cv2.destroyAllWindows()\n"
      ],
      "metadata": {
        "id": "T5eiYmXskwlY"
      },
      "execution_count": null,
      "outputs": []
    },
    {
      "cell_type": "markdown",
      "source": [
        "### Noise Reduction using OpenCV"
      ],
      "metadata": {
        "id": "LlYPnUAJk1Fv"
      }
    },
    {
      "cell_type": "code",
      "source": [
        "import cv2\n",
        "\n",
        "\n",
        "cap = cv2.VideoCapture(video_filename)\n",
        "\n",
        "\n",
        "fourcc = cv2.VideoWriter_fourcc(*'mp4v')\n",
        "out = cv2.VideoWriter('denoised_video.mp4', fourcc, 20.0, (int(cap.get(3)), int(cap.get(4))))\n",
        "\n",
        "while cap.isOpened():\n",
        "    ret, frame = cap.read()\n",
        "    if ret:\n",
        "        blurred_frame = cv2.GaussianBlur(frame, (5, 5), 0)\n",
        "        out.write(blurred_frame)\n",
        "    else:\n",
        "        break\n",
        "\n",
        "cap.release()\n",
        "out.release()\n",
        "cv2.destroyAllWindows()\n"
      ],
      "metadata": {
        "id": "xBoHKm41k7CX"
      },
      "execution_count": null,
      "outputs": []
    },
    {
      "cell_type": "markdown",
      "source": [
        "### Noise reduction using FFmpeg"
      ],
      "metadata": {
        "id": "s3HXdCoQk-Pz"
      }
    },
    {
      "cell_type": "code",
      "source": [
        "# Applying HQDN3D filter for denoising\n",
        "!ffmpeg -i denoised_video.mp4 -vf hqdn3d=3.0:3.0:6.0:6.0 denoised_video_ffmpeg.mp4\n"
      ],
      "metadata": {
        "id": "FwuhV4UXlEPp"
      },
      "execution_count": null,
      "outputs": []
    },
    {
      "cell_type": "markdown",
      "source": [
        "### Video Compression using FFmpeg"
      ],
      "metadata": {
        "id": "2P_7uOD6lGij"
      }
    },
    {
      "cell_type": "code",
      "source": [
        "# Compressing the video using H.264 codec\n",
        "!ffmpeg -i denoised_video_ffmpeg.mp4 -vcodec libx264 -crf 23 compressed_video.mp4\n"
      ],
      "metadata": {
        "id": "4cE72AdxlOh_"
      },
      "execution_count": null,
      "outputs": []
    },
    {
      "cell_type": "markdown",
      "source": [
        "### Transcoding using FFmpeg"
      ],
      "metadata": {
        "id": "W4Dkd3p7lo-c"
      }
    },
    {
      "cell_type": "code",
      "source": [
        "# Transcoding the video to ensure compatibility\n",
        "!ffmpeg -i compressed_video.mp4 -vcodec libx264 -acodec aac -strict -2 transcoded_video.mp4\n"
      ],
      "metadata": {
        "id": "vVSiAljzlqz4"
      },
      "execution_count": null,
      "outputs": []
    },
    {
      "cell_type": "markdown",
      "source": [
        "### Downloading the final video"
      ],
      "metadata": {
        "id": "Fi7nM58nl21n"
      }
    },
    {
      "cell_type": "code",
      "source": [
        "# Download the processed video\n",
        "files.download('transcoded_video.mp4')"
      ],
      "metadata": {
        "id": "uh9P6xsSl593"
      },
      "execution_count": null,
      "outputs": []
    }
  ]
}